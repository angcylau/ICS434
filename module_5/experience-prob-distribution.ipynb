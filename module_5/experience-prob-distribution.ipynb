{
 "cells": [
  {
   "cell_type": "code",
   "execution_count": 76,
   "id": "3362484f",
   "metadata": {
    "pycharm": {
     "name": "#%%\n"
    }
   },
   "outputs": [],
   "source": [
    "import numpy as np\n",
    "import matplotlib.pyplot as plt\n",
    "import random"
   ]
  },
  {
   "cell_type": "markdown",
   "id": "713c60c7",
   "metadata": {},
   "source": [
    "##### Q.1 \n",
    "\n",
    "Consider the loaded die with the following probabilities:\n",
    "```\n",
    "    p(1) = 0.3/6\n",
    "    p(2) = 0.7/6\n",
    "    p(3) =   2/6\n",
    "    p(4) = 0.5/6\n",
    "    p(5) = 0.2/6\n",
    "    p(6) = 2.3/6\n",
    "```\n"
   ]
  },
  {
   "cell_type": "markdown",
   "id": "dbe12bdf",
   "metadata": {},
   "source": [
    "##### Q.2 \n",
    "* Plot the probability distribution above\n",
    "  * Select the most appropriate visualization to do so."
   ]
  },
  {
   "cell_type": "code",
   "execution_count": 77,
   "id": "f519fe80",
   "metadata": {},
   "outputs": [
    {
     "data": {
      "image/png": "[encoded data removed]",
      "text/plain": [
       "<Figure size 576x288 with 1 Axes>"
      ]
     },
     "metadata": {
      "needs_background": "light"
     },
     "output_type": "display_data"
    }
   ],
   "source": [
    "prob = [0.3/6, 0.7/6, 2/6, 0.5/6, 0.2/6, 2.3/6]\n",
    "die = list(range(1,7))\n",
    "\n",
    "plt.figure(figsize=(8, 4))\n",
    "plt.bar(die, prob)\n",
    "\n",
    "plt.xlabel('Face of Die')\n",
    "plt.ylabel('Probability')\n",
    "plt.title('Probablility Distribution of a Die')\n",
    "\n",
    "plt.show()"
   ]
  },
  {
   "cell_type": "markdown",
   "id": "2bebd2a7",
   "metadata": {},
   "source": [
    "##### Q.3 \n",
    "* Based only on the plot above, can you predict the mean value of a random variable consisting of values obtaining from rolling a die  that follows the probability distribution given above? Explain your reasoning."
   ]
  },
  {
   "cell_type": "markdown",
   "id": "7190399b",
   "metadata": {},
   "source": [
    "Based only looking at the plot, I would predict the mean value to be approximately 4.0 - 4.5. By calculation, 1(0.3/6)+2(0.7/6)+3(2/6)+4(0.5/6)+5(0.2/6)+6(2.3/6) = 4.08."
   ]
  },
  {
   "cell_type": "code",
   "execution_count": 116,
   "id": "9144c2f9",
   "metadata": {},
   "outputs": [
    {
     "data": {
      "text/plain": [
       "4.083333333333333"
      ]
     },
     "execution_count": 116,
     "metadata": {},
     "output_type": "execute_result"
    }
   ],
   "source": [
    "x = [prob[i] * die[i] for i in range(len(die))]\n",
    "np.sum(x)\n"
   ]
  },
  {
   "cell_type": "markdown",
   "id": "007f6984",
   "metadata": {},
   "source": [
    "##### Q.4\n",
    "* Sample 5000 die rolls such that the probabilities of obtaining the values 1 through 6 are distributed according probabilities above. Use these samples to estimate the mean of the random variable. \n"
   ]
  },
  {
   "cell_type": "code",
   "execution_count": 178,
   "id": "5bc38d79",
   "metadata": {},
   "outputs": [
    {
     "data": {
      "text/plain": [
       "4.0506"
      ]
     },
     "execution_count": 178,
     "metadata": {},
     "output_type": "execute_result"
    }
   ],
   "source": [
    "# roll_samples = []\n",
    "# for i in range (5000):\n",
    "#     rand_roll = np.random.choice([1, 2, 3, 4, 5, 6], p=[0.3/6, 0.7/6, 2/6, 0.5/6, 0.2/6, 2.3/6])\n",
    "#     roll_samples.append(rand_roll)\n",
    "# keys, values = np.unique(roll_samples, return_counts=True)\n",
    "# rolls_dict = dict(zip(keys, values))\n",
    "# print(rolls_dict)\n",
    "roll_samples = np.random.choice(die, 5000, p=[0.3/6, 0.7/6, 2/6, 0.5/6, 0.2/6, 2.3/6])\n",
    "roll_samples.mean()\n",
    "\n"
   ]
  },
  {
   "cell_type": "markdown",
   "id": "78152616",
   "metadata": {},
   "source": [
    "##### Q.5 \n",
    "\n",
    "* Does the mean match your prediction in Q.3 above? Explain your answer.\n"
   ]
  },
  {
   "cell_type": "markdown",
   "id": "75b09eb9",
   "metadata": {},
   "source": [
    "Yes, it is very close to my calculations above, considering how large the sample size is. "
   ]
  }
 ],
 "metadata": {
  "kernelspec": {
   "display_name": "Python 3",
   "language": "python",
   "name": "python3"
  },
  "language_info": {
   "codemirror_mode": {
    "name": "ipython",
    "version": 3
   },
   "file_extension": ".py",
   "mimetype": "text/x-python",
   "name": "python",
   "nbconvert_exporter": "python",
   "pygments_lexer": "ipython3",
   "version": "3.8.8"
  }
 },
 "nbformat": 4,
 "nbformat_minor": 5
}